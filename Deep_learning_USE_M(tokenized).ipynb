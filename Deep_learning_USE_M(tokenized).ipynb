{
  "cells": [
    {
      "cell_type": "markdown",
      "metadata": {
        "id": "view-in-github",
        "colab_type": "text"
      },
      "source": [
        "<a href=\"https://colab.research.google.com/github/ticky1515/Toxic-messages-analysis/blob/main/Deep_learning_USE_M(tokenized).ipynb\" target=\"_parent\"><img src=\"https://colab.research.google.com/assets/colab-badge.svg\" alt=\"Open In Colab\"/></a>"
      ]
    },
    {
      "cell_type": "markdown",
      "metadata": {
        "id": "vrhgXoZ7DwbL"
      },
      "source": [
        "# Import"
      ]
    },
    {
      "cell_type": "code",
      "execution_count": null,
      "metadata": {
        "id": "05CAb4DRlcz7"
      },
      "outputs": [],
      "source": [
        "import numpy as np\n",
        "import pandas as pd\n",
        "from matplotlib import pyplot as plt\n",
        "%matplotlib inline\n",
        "import seaborn as sns\n",
        "import re"
      ]
    },
    {
      "cell_type": "code",
      "execution_count": null,
      "metadata": {
        "colab": {
          "base_uri": "https://localhost:8080/"
        },
        "id": "BtPoVE1oKVVV",
        "outputId": "f682f414-87da-4e5c-8bd6-27351e104c1b"
      },
      "outputs": [
        {
          "output_type": "stream",
          "name": "stdout",
          "text": [
            "Looking in indexes: https://pypi.org/simple, https://us-python.pkg.dev/colab-wheels/public/simple/\n",
            "Collecting Keras-Preprocessing\n",
            "  Downloading Keras_Preprocessing-1.1.2-py2.py3-none-any.whl (42 kB)\n",
            "\u001b[2K     \u001b[90m━━━━━━━━━━━━━━━━━━━━━━━━━━━━━━━━━━━━━━━━\u001b[0m \u001b[32m42.6/42.6 kB\u001b[0m \u001b[31m1.5 MB/s\u001b[0m eta \u001b[36m0:00:00\u001b[0m\n",
            "\u001b[?25hRequirement already satisfied: numpy>=1.9.1 in /usr/local/lib/python3.10/dist-packages (from Keras-Preprocessing) (1.22.4)\n",
            "Requirement already satisfied: six>=1.9.0 in /usr/local/lib/python3.10/dist-packages (from Keras-Preprocessing) (1.16.0)\n",
            "Installing collected packages: Keras-Preprocessing\n",
            "Successfully installed Keras-Preprocessing-1.1.2\n"
          ]
        }
      ],
      "source": [
        "!pip install Keras-Preprocessing"
      ]
    },
    {
      "cell_type": "code",
      "execution_count": null,
      "metadata": {
        "id": "nJ1liCG_n2X9"
      },
      "outputs": [],
      "source": [
        "%reload_ext autoreload\n",
        "%autoreload 2\n",
        "%matplotlib inline"
      ]
    },
    {
      "cell_type": "code",
      "execution_count": null,
      "metadata": {
        "colab": {
          "base_uri": "https://localhost:8080/"
        },
        "id": "SgiTmV_Un3ab",
        "outputId": "b1bd2232-837a-4219-b255-7f4f30856464"
      },
      "outputs": [
        {
          "output_type": "stream",
          "name": "stdout",
          "text": [
            "Colab only includes TensorFlow 2.x; %tensorflow_version has no effect.\n"
          ]
        }
      ],
      "source": [
        "try:\n",
        "    %tensorflow_version 2.x\n",
        "except:\n",
        "    pass"
      ]
    },
    {
      "cell_type": "code",
      "execution_count": null,
      "metadata": {
        "colab": {
          "base_uri": "https://localhost:8080/"
        },
        "id": "S-qJMbACn4p3",
        "outputId": "aeaf6da9-90a2-40a9-83f3-9ab5a7a36b69"
      },
      "outputs": [
        {
          "output_type": "stream",
          "name": "stdout",
          "text": [
            "Looking in indexes: https://pypi.org/simple, https://us-python.pkg.dev/colab-wheels/public/simple/\n",
            "Collecting pythainlp\n",
            "  Downloading pythainlp-4.0.1-py3-none-any.whl (13.4 MB)\n",
            "\u001b[2K     \u001b[90m━━━━━━━━━━━━━━━━━━━━━━━━━━━━━━━━━━━━━━━━\u001b[0m \u001b[32m13.4/13.4 MB\u001b[0m \u001b[31m77.5 MB/s\u001b[0m eta \u001b[36m0:00:00\u001b[0m\n",
            "\u001b[?25hRequirement already satisfied: requests>=2.22.0 in /usr/local/lib/python3.10/dist-packages (from pythainlp) (2.27.1)\n",
            "Requirement already satisfied: urllib3<1.27,>=1.21.1 in /usr/local/lib/python3.10/dist-packages (from requests>=2.22.0->pythainlp) (1.26.15)\n",
            "Requirement already satisfied: certifi>=2017.4.17 in /usr/local/lib/python3.10/dist-packages (from requests>=2.22.0->pythainlp) (2022.12.7)\n",
            "Requirement already satisfied: charset-normalizer~=2.0.0 in /usr/local/lib/python3.10/dist-packages (from requests>=2.22.0->pythainlp) (2.0.12)\n",
            "Requirement already satisfied: idna<4,>=2.5 in /usr/local/lib/python3.10/dist-packages (from requests>=2.22.0->pythainlp) (3.4)\n",
            "Installing collected packages: pythainlp\n",
            "Successfully installed pythainlp-4.0.1\n",
            "Looking in indexes: https://pypi.org/simple, https://us-python.pkg.dev/colab-wheels/public/simple/\n",
            "Collecting epitran\n",
            "  Downloading epitran-1.24-py2.py3-none-any.whl (164 kB)\n",
            "\u001b[2K     \u001b[90m━━━━━━━━━━━━━━━━━━━━━━━━━━━━━━━━━━━━━━━\u001b[0m \u001b[32m164.9/164.9 kB\u001b[0m \u001b[31m4.3 MB/s\u001b[0m eta \u001b[36m0:00:00\u001b[0m\n",
            "\u001b[?25hRequirement already satisfied: setuptools in /usr/local/lib/python3.10/dist-packages (from epitran) (67.7.2)\n",
            "Requirement already satisfied: regex in /usr/local/lib/python3.10/dist-packages (from epitran) (2022.10.31)\n",
            "Collecting panphon>=0.20 (from epitran)\n",
            "  Downloading panphon-0.20.0-py2.py3-none-any.whl (73 kB)\n",
            "\u001b[2K     \u001b[90m━━━━━━━━━━━━━━━━━━━━━━━━━━━━━━━━━━━━━━━━\u001b[0m \u001b[32m73.6/73.6 kB\u001b[0m \u001b[31m9.2 MB/s\u001b[0m eta \u001b[36m0:00:00\u001b[0m\n",
            "\u001b[?25hCollecting marisa-trie (from epitran)\n",
            "  Downloading marisa_trie-0.8.0-cp310-cp310-manylinux_2_17_x86_64.manylinux2014_x86_64.whl (1.2 MB)\n",
            "\u001b[2K     \u001b[90m━━━━━━━━━━━━━━━━━━━━━━━━━━━━━━━━━━━━━━━━\u001b[0m \u001b[32m1.2/1.2 MB\u001b[0m \u001b[31m23.1 MB/s\u001b[0m eta \u001b[36m0:00:00\u001b[0m\n",
            "\u001b[?25hRequirement already satisfied: requests in /usr/local/lib/python3.10/dist-packages (from epitran) (2.27.1)\n",
            "Collecting unicodecsv (from panphon>=0.20->epitran)\n",
            "  Downloading unicodecsv-0.14.1.tar.gz (10 kB)\n",
            "  Preparing metadata (setup.py) ... \u001b[?25l\u001b[?25hdone\n",
            "Requirement already satisfied: PyYAML in /usr/local/lib/python3.10/dist-packages (from panphon>=0.20->epitran) (6.0)\n",
            "Requirement already satisfied: numpy>=1.20.2 in /usr/local/lib/python3.10/dist-packages (from panphon>=0.20->epitran) (1.22.4)\n",
            "Requirement already satisfied: editdistance in /usr/local/lib/python3.10/dist-packages (from panphon>=0.20->epitran) (0.6.2)\n",
            "Collecting munkres (from panphon>=0.20->epitran)\n",
            "  Downloading munkres-1.1.4-py2.py3-none-any.whl (7.0 kB)\n",
            "Requirement already satisfied: urllib3<1.27,>=1.21.1 in /usr/local/lib/python3.10/dist-packages (from requests->epitran) (1.26.15)\n",
            "Requirement already satisfied: certifi>=2017.4.17 in /usr/local/lib/python3.10/dist-packages (from requests->epitran) (2022.12.7)\n",
            "Requirement already satisfied: charset-normalizer~=2.0.0 in /usr/local/lib/python3.10/dist-packages (from requests->epitran) (2.0.12)\n",
            "Requirement already satisfied: idna<4,>=2.5 in /usr/local/lib/python3.10/dist-packages (from requests->epitran) (3.4)\n",
            "Building wheels for collected packages: unicodecsv\n",
            "  Building wheel for unicodecsv (setup.py) ... \u001b[?25l\u001b[?25hdone\n",
            "  Created wheel for unicodecsv: filename=unicodecsv-0.14.1-py3-none-any.whl size=10745 sha256=632d09e5300e28ccbe536b642f1d9ec10f9aeaac0dad838e37df6ce91572015d\n",
            "  Stored in directory: /root/.cache/pip/wheels/9c/ea/66/8e45247b09052a933eb1a680b7c64802298faba58aac9b346b\n",
            "Successfully built unicodecsv\n",
            "Installing collected packages: unicodecsv, munkres, panphon, marisa-trie, epitran\n",
            "Successfully installed epitran-1.24 marisa-trie-0.8.0 munkres-1.1.4 panphon-0.20.0 unicodecsv-0.14.1\n",
            "Looking in indexes: https://pypi.org/simple, https://us-python.pkg.dev/colab-wheels/public/simple/\n",
            "Collecting sklearn_crfsuite\n",
            "  Downloading sklearn_crfsuite-0.3.6-py2.py3-none-any.whl (12 kB)\n",
            "Collecting python-crfsuite>=0.8.3 (from sklearn_crfsuite)\n",
            "  Downloading python_crfsuite-0.9.9-cp310-cp310-manylinux_2_17_x86_64.manylinux2014_x86_64.whl (993 kB)\n",
            "\u001b[2K     \u001b[90m━━━━━━━━━━━━━━━━━━━━━━━━━━━━━━━━━━━━━━\u001b[0m \u001b[32m993.5/993.5 kB\u001b[0m \u001b[31m15.0 MB/s\u001b[0m eta \u001b[36m0:00:00\u001b[0m\n",
            "\u001b[?25hRequirement already satisfied: six in /usr/local/lib/python3.10/dist-packages (from sklearn_crfsuite) (1.16.0)\n",
            "Requirement already satisfied: tabulate in /usr/local/lib/python3.10/dist-packages (from sklearn_crfsuite) (0.8.10)\n",
            "Requirement already satisfied: tqdm>=2.0 in /usr/local/lib/python3.10/dist-packages (from sklearn_crfsuite) (4.65.0)\n",
            "Installing collected packages: python-crfsuite, sklearn_crfsuite\n",
            "Successfully installed python-crfsuite-0.9.9 sklearn_crfsuite-0.3.6\n",
            "Looking in indexes: https://pypi.org/simple, https://us-python.pkg.dev/colab-wheels/public/simple/\n",
            "Requirement already satisfied: tensorflow in /usr/local/lib/python3.10/dist-packages (2.12.0)\n",
            "Collecting deepcut\n",
            "  Downloading deepcut-0.7.0.0-py3-none-any.whl (2.0 MB)\n",
            "\u001b[2K     \u001b[90m━━━━━━━━━━━━━━━━━━━━━━━━━━━━━━━━━━━━━━━━\u001b[0m \u001b[32m2.0/2.0 MB\u001b[0m \u001b[31m23.2 MB/s\u001b[0m eta \u001b[36m0:00:00\u001b[0m\n",
            "\u001b[?25hRequirement already satisfied: absl-py>=1.0.0 in /usr/local/lib/python3.10/dist-packages (from tensorflow) (1.4.0)\n",
            "Requirement already satisfied: astunparse>=1.6.0 in /usr/local/lib/python3.10/dist-packages (from tensorflow) (1.6.3)\n",
            "Requirement already satisfied: flatbuffers>=2.0 in /usr/local/lib/python3.10/dist-packages (from tensorflow) (23.3.3)\n",
            "Requirement already satisfied: gast<=0.4.0,>=0.2.1 in /usr/local/lib/python3.10/dist-packages (from tensorflow) (0.4.0)\n",
            "Requirement already satisfied: google-pasta>=0.1.1 in /usr/local/lib/python3.10/dist-packages (from tensorflow) (0.2.0)\n",
            "Requirement already satisfied: grpcio<2.0,>=1.24.3 in /usr/local/lib/python3.10/dist-packages (from tensorflow) (1.54.0)\n",
            "Requirement already satisfied: h5py>=2.9.0 in /usr/local/lib/python3.10/dist-packages (from tensorflow) (3.8.0)\n",
            "Requirement already satisfied: jax>=0.3.15 in /usr/local/lib/python3.10/dist-packages (from tensorflow) (0.4.8)\n",
            "Requirement already satisfied: keras<2.13,>=2.12.0 in /usr/local/lib/python3.10/dist-packages (from tensorflow) (2.12.0)\n",
            "Requirement already satisfied: libclang>=13.0.0 in /usr/local/lib/python3.10/dist-packages (from tensorflow) (16.0.0)\n",
            "Requirement already satisfied: numpy<1.24,>=1.22 in /usr/local/lib/python3.10/dist-packages (from tensorflow) (1.22.4)\n",
            "Requirement already satisfied: opt-einsum>=2.3.2 in /usr/local/lib/python3.10/dist-packages (from tensorflow) (3.3.0)\n",
            "Requirement already satisfied: packaging in /usr/local/lib/python3.10/dist-packages (from tensorflow) (23.1)\n",
            "Requirement already satisfied: protobuf!=4.21.0,!=4.21.1,!=4.21.2,!=4.21.3,!=4.21.4,!=4.21.5,<5.0.0dev,>=3.20.3 in /usr/local/lib/python3.10/dist-packages (from tensorflow) (3.20.3)\n",
            "Requirement already satisfied: setuptools in /usr/local/lib/python3.10/dist-packages (from tensorflow) (67.7.2)\n",
            "Requirement already satisfied: six>=1.12.0 in /usr/local/lib/python3.10/dist-packages (from tensorflow) (1.16.0)\n",
            "Requirement already satisfied: tensorboard<2.13,>=2.12 in /usr/local/lib/python3.10/dist-packages (from tensorflow) (2.12.2)\n",
            "Requirement already satisfied: tensorflow-estimator<2.13,>=2.12.0 in /usr/local/lib/python3.10/dist-packages (from tensorflow) (2.12.0)\n",
            "Requirement already satisfied: termcolor>=1.1.0 in /usr/local/lib/python3.10/dist-packages (from tensorflow) (2.3.0)\n",
            "Requirement already satisfied: typing-extensions>=3.6.6 in /usr/local/lib/python3.10/dist-packages (from tensorflow) (4.5.0)\n",
            "Requirement already satisfied: wrapt<1.15,>=1.11.0 in /usr/local/lib/python3.10/dist-packages (from tensorflow) (1.14.1)\n",
            "Requirement already satisfied: tensorflow-io-gcs-filesystem>=0.23.1 in /usr/local/lib/python3.10/dist-packages (from tensorflow) (0.32.0)\n",
            "Requirement already satisfied: pandas in /usr/local/lib/python3.10/dist-packages (from deepcut) (1.5.3)\n",
            "Requirement already satisfied: scipy in /usr/local/lib/python3.10/dist-packages (from deepcut) (1.10.1)\n",
            "Requirement already satisfied: scikit-learn in /usr/local/lib/python3.10/dist-packages (from deepcut) (1.2.2)\n",
            "Requirement already satisfied: wheel<1.0,>=0.23.0 in /usr/local/lib/python3.10/dist-packages (from astunparse>=1.6.0->tensorflow) (0.40.0)\n",
            "Requirement already satisfied: ml-dtypes>=0.0.3 in /usr/local/lib/python3.10/dist-packages (from jax>=0.3.15->tensorflow) (0.1.0)\n",
            "Requirement already satisfied: google-auth<3,>=1.6.3 in /usr/local/lib/python3.10/dist-packages (from tensorboard<2.13,>=2.12->tensorflow) (2.17.3)\n",
            "Requirement already satisfied: google-auth-oauthlib<1.1,>=0.5 in /usr/local/lib/python3.10/dist-packages (from tensorboard<2.13,>=2.12->tensorflow) (1.0.0)\n",
            "Requirement already satisfied: markdown>=2.6.8 in /usr/local/lib/python3.10/dist-packages (from tensorboard<2.13,>=2.12->tensorflow) (3.4.3)\n",
            "Requirement already satisfied: requests<3,>=2.21.0 in /usr/local/lib/python3.10/dist-packages (from tensorboard<2.13,>=2.12->tensorflow) (2.27.1)\n",
            "Requirement already satisfied: tensorboard-data-server<0.8.0,>=0.7.0 in /usr/local/lib/python3.10/dist-packages (from tensorboard<2.13,>=2.12->tensorflow) (0.7.0)\n",
            "Requirement already satisfied: tensorboard-plugin-wit>=1.6.0 in /usr/local/lib/python3.10/dist-packages (from tensorboard<2.13,>=2.12->tensorflow) (1.8.1)\n",
            "Requirement already satisfied: werkzeug>=1.0.1 in /usr/local/lib/python3.10/dist-packages (from tensorboard<2.13,>=2.12->tensorflow) (2.3.0)\n",
            "Requirement already satisfied: python-dateutil>=2.8.1 in /usr/local/lib/python3.10/dist-packages (from pandas->deepcut) (2.8.2)\n",
            "Requirement already satisfied: pytz>=2020.1 in /usr/local/lib/python3.10/dist-packages (from pandas->deepcut) (2022.7.1)\n",
            "Requirement already satisfied: joblib>=1.1.1 in /usr/local/lib/python3.10/dist-packages (from scikit-learn->deepcut) (1.2.0)\n",
            "Requirement already satisfied: threadpoolctl>=2.0.0 in /usr/local/lib/python3.10/dist-packages (from scikit-learn->deepcut) (3.1.0)\n",
            "Requirement already satisfied: cachetools<6.0,>=2.0.0 in /usr/local/lib/python3.10/dist-packages (from google-auth<3,>=1.6.3->tensorboard<2.13,>=2.12->tensorflow) (5.3.0)\n",
            "Requirement already satisfied: pyasn1-modules>=0.2.1 in /usr/local/lib/python3.10/dist-packages (from google-auth<3,>=1.6.3->tensorboard<2.13,>=2.12->tensorflow) (0.3.0)\n",
            "Requirement already satisfied: rsa<5,>=3.1.4 in /usr/local/lib/python3.10/dist-packages (from google-auth<3,>=1.6.3->tensorboard<2.13,>=2.12->tensorflow) (4.9)\n",
            "Requirement already satisfied: requests-oauthlib>=0.7.0 in /usr/local/lib/python3.10/dist-packages (from google-auth-oauthlib<1.1,>=0.5->tensorboard<2.13,>=2.12->tensorflow) (1.3.1)\n",
            "Requirement already satisfied: urllib3<1.27,>=1.21.1 in /usr/local/lib/python3.10/dist-packages (from requests<3,>=2.21.0->tensorboard<2.13,>=2.12->tensorflow) (1.26.15)\n",
            "Requirement already satisfied: certifi>=2017.4.17 in /usr/local/lib/python3.10/dist-packages (from requests<3,>=2.21.0->tensorboard<2.13,>=2.12->tensorflow) (2022.12.7)\n",
            "Requirement already satisfied: charset-normalizer~=2.0.0 in /usr/local/lib/python3.10/dist-packages (from requests<3,>=2.21.0->tensorboard<2.13,>=2.12->tensorflow) (2.0.12)\n",
            "Requirement already satisfied: idna<4,>=2.5 in /usr/local/lib/python3.10/dist-packages (from requests<3,>=2.21.0->tensorboard<2.13,>=2.12->tensorflow) (3.4)\n",
            "Requirement already satisfied: MarkupSafe>=2.1.1 in /usr/local/lib/python3.10/dist-packages (from werkzeug>=1.0.1->tensorboard<2.13,>=2.12->tensorflow) (2.1.2)\n",
            "Requirement already satisfied: pyasn1<0.6.0,>=0.4.6 in /usr/local/lib/python3.10/dist-packages (from pyasn1-modules>=0.2.1->google-auth<3,>=1.6.3->tensorboard<2.13,>=2.12->tensorflow) (0.5.0)\n",
            "Requirement already satisfied: oauthlib>=3.0.0 in /usr/local/lib/python3.10/dist-packages (from requests-oauthlib>=0.7.0->google-auth-oauthlib<1.1,>=0.5->tensorboard<2.13,>=2.12->tensorflow) (3.2.2)\n",
            "Installing collected packages: deepcut\n",
            "Successfully installed deepcut-0.7.0.0\n",
            "Looking in indexes: https://pypi.org/simple, https://us-python.pkg.dev/colab-wheels/public/simple/\n",
            "Collecting attacut\n",
            "  Downloading attacut-1.0.6-py3-none-any.whl (1.3 MB)\n",
            "\u001b[2K     \u001b[90m━━━━━━━━━━━━━━━━━━━━━━━━━━━━━━━━━━━━━━━━\u001b[0m \u001b[32m1.3/1.3 MB\u001b[0m \u001b[31m17.5 MB/s\u001b[0m eta \u001b[36m0:00:00\u001b[0m\n",
            "\u001b[?25hCollecting docopt>=0.6.2 (from attacut)\n",
            "  Downloading docopt-0.6.2.tar.gz (25 kB)\n",
            "  Preparing metadata (setup.py) ... \u001b[?25l\u001b[?25hdone\n",
            "Collecting fire>=0.1.3 (from attacut)\n",
            "  Downloading fire-0.5.0.tar.gz (88 kB)\n",
            "\u001b[2K     \u001b[90m━━━━━━━━━━━━━━━━━━━━━━━━━━━━━━━━━━━━━━━━\u001b[0m \u001b[32m88.3/88.3 kB\u001b[0m \u001b[31m11.1 MB/s\u001b[0m eta \u001b[36m0:00:00\u001b[0m\n",
            "\u001b[?25h  Preparing metadata (setup.py) ... \u001b[?25l\u001b[?25hdone\n",
            "Collecting nptyping>=0.2.0 (from attacut)\n",
            "  Downloading nptyping-2.5.0-py3-none-any.whl (37 kB)\n",
            "Requirement already satisfied: numpy>=1.17.0 in /usr/local/lib/python3.10/dist-packages (from attacut) (1.22.4)\n",
            "Requirement already satisfied: pyyaml>=5.1.2 in /usr/local/lib/python3.10/dist-packages (from attacut) (6.0)\n",
            "Requirement already satisfied: six>=1.12.0 in /usr/local/lib/python3.10/dist-packages (from attacut) (1.16.0)\n",
            "Collecting ssg>=0.0.4 (from attacut)\n",
            "  Downloading ssg-0.0.8-py3-none-any.whl (473 kB)\n",
            "\u001b[2K     \u001b[90m━━━━━━━━━━━━━━━━━━━━━━━━━━━━━━━━━━━━━━\u001b[0m \u001b[32m473.8/473.8 kB\u001b[0m \u001b[31m48.1 MB/s\u001b[0m eta \u001b[36m0:00:00\u001b[0m\n",
            "\u001b[?25hRequirement already satisfied: torch>=1.2.0 in /usr/local/lib/python3.10/dist-packages (from attacut) (2.0.0+cu118)\n",
            "Requirement already satisfied: termcolor in /usr/local/lib/python3.10/dist-packages (from fire>=0.1.3->attacut) (2.3.0)\n",
            "Requirement already satisfied: python-crfsuite>=0.9.6 in /usr/local/lib/python3.10/dist-packages (from ssg>=0.0.4->attacut) (0.9.9)\n",
            "Requirement already satisfied: tqdm>=4.32.2 in /usr/local/lib/python3.10/dist-packages (from ssg>=0.0.4->attacut) (4.65.0)\n",
            "Requirement already satisfied: filelock in /usr/local/lib/python3.10/dist-packages (from torch>=1.2.0->attacut) (3.12.0)\n",
            "Requirement already satisfied: typing-extensions in /usr/local/lib/python3.10/dist-packages (from torch>=1.2.0->attacut) (4.5.0)\n",
            "Requirement already satisfied: sympy in /usr/local/lib/python3.10/dist-packages (from torch>=1.2.0->attacut) (1.11.1)\n",
            "Requirement already satisfied: networkx in /usr/local/lib/python3.10/dist-packages (from torch>=1.2.0->attacut) (3.1)\n",
            "Requirement already satisfied: jinja2 in /usr/local/lib/python3.10/dist-packages (from torch>=1.2.0->attacut) (3.1.2)\n",
            "Requirement already satisfied: triton==2.0.0 in /usr/local/lib/python3.10/dist-packages (from torch>=1.2.0->attacut) (2.0.0)\n",
            "Requirement already satisfied: cmake in /usr/local/lib/python3.10/dist-packages (from triton==2.0.0->torch>=1.2.0->attacut) (3.25.2)\n",
            "Requirement already satisfied: lit in /usr/local/lib/python3.10/dist-packages (from triton==2.0.0->torch>=1.2.0->attacut) (16.0.3)\n",
            "Requirement already satisfied: MarkupSafe>=2.0 in /usr/local/lib/python3.10/dist-packages (from jinja2->torch>=1.2.0->attacut) (2.1.2)\n",
            "Requirement already satisfied: mpmath>=0.19 in /usr/local/lib/python3.10/dist-packages (from sympy->torch>=1.2.0->attacut) (1.3.0)\n",
            "Building wheels for collected packages: docopt, fire\n",
            "  Building wheel for docopt (setup.py) ... \u001b[?25l\u001b[?25hdone\n",
            "  Created wheel for docopt: filename=docopt-0.6.2-py2.py3-none-any.whl size=13707 sha256=fbaaf5cc51ab59c152f1f99ca22f61d0a464add7920a23e82d5042c7a9d9389a\n",
            "  Stored in directory: /root/.cache/pip/wheels/fc/ab/d4/5da2067ac95b36618c629a5f93f809425700506f72c9732fac\n",
            "  Building wheel for fire (setup.py) ... \u001b[?25l\u001b[?25hdone\n",
            "  Created wheel for fire: filename=fire-0.5.0-py2.py3-none-any.whl size=116932 sha256=c96f958765925066baacba805fa04b5938f450423fc8780a8bb519fba5dbe387\n",
            "  Stored in directory: /root/.cache/pip/wheels/90/d4/f7/9404e5db0116bd4d43e5666eaa3e70ab53723e1e3ea40c9a95\n",
            "Successfully built docopt fire\n",
            "Installing collected packages: docopt, nptyping, fire, ssg, attacut\n",
            "Successfully installed attacut-1.0.6 docopt-0.6.2 fire-0.5.0 nptyping-2.5.0 ssg-0.0.8\n"
          ]
        }
      ],
      "source": [
        "# release version \n",
        "! pip install pythainlp\n",
        "\n",
        "!pip install epitran\n",
        "!pip install sklearn_crfsuite\n",
        "!pip install tensorflow deepcut\n",
        "!pip install attacut"
      ]
    },
    {
      "cell_type": "code",
      "execution_count": null,
      "metadata": {
        "colab": {
          "base_uri": "https://localhost:8080/"
        },
        "id": "6T-gWD74oZ4C",
        "outputId": "9858b7b3-cebb-40a8-8f8e-3ba0612ef623"
      },
      "outputs": [
        {
          "output_type": "execute_result",
          "data": {
            "text/plain": [
              "'4.0.1'"
            ],
            "application/vnd.google.colaboratory.intrinsic+json": {
              "type": "string"
            }
          },
          "metadata": {},
          "execution_count": 6
        }
      ],
      "source": [
        "import pythainlp\n",
        "\n",
        "pythainlp.__version__"
      ]
    },
    {
      "cell_type": "code",
      "execution_count": null,
      "metadata": {
        "id": "53_Vy2thoczP"
      },
      "outputs": [],
      "source": [
        "from pythainlp import sent_tokenize, word_tokenize"
      ]
    },
    {
      "cell_type": "markdown",
      "metadata": {
        "id": "kDWQv1XKEQ8I"
      },
      "source": [
        "# Read DATA"
      ]
    },
    {
      "cell_type": "code",
      "execution_count": null,
      "metadata": {
        "colab": {
          "base_uri": "https://localhost:8080/"
        },
        "id": "rfFZyvWdmQzP",
        "outputId": "1718313c-3180-4498-bd73-32e2f92edec5"
      },
      "outputs": [
        {
          "output_type": "stream",
          "name": "stdout",
          "text": [
            "Mounted at /content/drive\n"
          ]
        }
      ],
      "source": [
        "from google.colab import drive\n",
        "drive.mount('/content/drive')"
      ]
    },
    {
      "cell_type": "code",
      "execution_count": null,
      "metadata": {
        "colab": {
          "base_uri": "https://localhost:8080/"
        },
        "id": "i-dH0lejAqk-",
        "outputId": "6c71f538-b779-43c8-b9af-3366256b93ba"
      },
      "outputs": [
        {
          "output_type": "stream",
          "name": "stdout",
          "text": [
            "/usr/local/lib/python3.10/dist-packages/gdown/cli.py:121: FutureWarning: Option `--id` was deprecated in version 4.3.1 and will be removed in 5.0. You don't need to pass it anymore to use a file ID.\n",
            "  warnings.warn(\n",
            "Downloading...\n",
            "From: https://drive.google.com/uc?id=1ebPWQNTKQgzE7GiJr3UgFDJ1UiSBETIQ\n",
            "To: /content/train_attacut.csv\n",
            "100% 1.31M/1.31M [00:00<00:00, 214MB/s]\n"
          ]
        }
      ],
      "source": [
        "!gdown --id 1ebPWQNTKQgzE7GiJr3UgFDJ1UiSBETIQ -O train_attacut.csv"
      ]
    },
    {
      "cell_type": "code",
      "execution_count": null,
      "metadata": {
        "colab": {
          "base_uri": "https://localhost:8080/"
        },
        "id": "saWlsu2tAv5T",
        "outputId": "f88d0f97-140c-4e5d-8838-0a4f383ed750"
      },
      "outputs": [
        {
          "output_type": "stream",
          "name": "stdout",
          "text": [
            "/usr/local/lib/python3.10/dist-packages/gdown/cli.py:121: FutureWarning: Option `--id` was deprecated in version 4.3.1 and will be removed in 5.0. You don't need to pass it anymore to use a file ID.\n",
            "  warnings.warn(\n",
            "Downloading...\n",
            "From: https://drive.google.com/uc?id=1KaRm6SINFXyKl7mUx0lpZUfpVxxgWC19\n",
            "To: /content/test_attacut.csv\n",
            "100% 546k/546k [00:00<00:00, 191MB/s]\n"
          ]
        }
      ],
      "source": [
        "!gdown --id 1KaRm6SINFXyKl7mUx0lpZUfpVxxgWC19 -O test_attacut.csv"
      ]
    },
    {
      "cell_type": "code",
      "execution_count": null,
      "metadata": {
        "id": "3rW3FJi6RLcm"
      },
      "outputs": [],
      "source": [
        "df_train = pd.read_csv('/content/train_attacut.csv')"
      ]
    },
    {
      "cell_type": "code",
      "execution_count": null,
      "metadata": {
        "id": "7mijgRpJRL-B"
      },
      "outputs": [],
      "source": [
        "df_test = pd.read_csv('/content/test_attacut.csv')"
      ]
    },
    {
      "cell_type": "code",
      "execution_count": null,
      "metadata": {
        "id": "NuM0D7yMoDlE"
      },
      "outputs": [],
      "source": [
        "X_train = df_train['text_token']\n",
        "X_test = df_test['text_token']"
      ]
    },
    {
      "cell_type": "code",
      "execution_count": null,
      "metadata": {
        "id": "x7e7DChQoXTd"
      },
      "outputs": [],
      "source": [
        "y_train = df_train[['toxic','severe_toxic','obscene','threat','insult','identity_hate']]\n",
        "y_test = df_test[['toxic','severe_toxic','obscene','threat','insult','identity_hate']]"
      ]
    },
    {
      "cell_type": "markdown",
      "metadata": {
        "id": "ooBV2c623NPG"
      },
      "source": [
        "# Sentence Encoder\n",
        "\n"
      ]
    },
    {
      "cell_type": "code",
      "execution_count": null,
      "metadata": {
        "id": "8z5FJXiG3VEx"
      },
      "outputs": [],
      "source": [
        "!pip3 install tensorflow_text>=2.0.0rc0\n"
      ]
    },
    {
      "cell_type": "code",
      "execution_count": null,
      "metadata": {
        "id": "iQujsLPR3a7q"
      },
      "outputs": [],
      "source": [
        "import tensorflow_hub as hub\n",
        "import numpy as np\n",
        "import tensorflow_text\n"
      ]
    },
    {
      "cell_type": "code",
      "execution_count": null,
      "metadata": {
        "id": "2d7vyRdy3iBr"
      },
      "outputs": [],
      "source": [
        "embed = hub.load(\"https://tfhub.dev/google/universal-sentence-encoder-multilingual/3\")\n"
      ]
    },
    {
      "cell_type": "code",
      "execution_count": null,
      "metadata": {
        "id": "nSn2hMD944gc"
      },
      "outputs": [],
      "source": [
        "thai_sentence = ['สวัสดีค้าบทุกๆท่าน']\n",
        "thai_result = embed(thai_sentence)"
      ]
    },
    {
      "cell_type": "code",
      "execution_count": null,
      "metadata": {
        "id": "z0Ctgcll5sLc"
      },
      "outputs": [],
      "source": [
        "train_text_vector = embed(X_train)\n",
        "test_text_vector = embed(X_test)"
      ]
    },
    {
      "cell_type": "code",
      "execution_count": null,
      "metadata": {
        "colab": {
          "base_uri": "https://localhost:8080/"
        },
        "id": "RUS3CG5F7F0f",
        "outputId": "29971f48-ce99-40c0-d0e4-13d023d1bcd7"
      },
      "outputs": [
        {
          "output_type": "execute_result",
          "data": {
            "text/plain": [
              "TensorShape([7123, 512])"
            ]
          },
          "metadata": {},
          "execution_count": 20
        }
      ],
      "source": [
        "train_text_vector.shape"
      ]
    },
    {
      "cell_type": "code",
      "execution_count": null,
      "metadata": {
        "id": "MB7uOauJ5R2G",
        "colab": {
          "base_uri": "https://localhost:8080/"
        },
        "outputId": "89aedb33-0387-44b7-8e18-6d0e0a111224"
      },
      "outputs": [
        {
          "output_type": "execute_result",
          "data": {
            "text/plain": [
              "<tf.Tensor: shape=(1, 512), dtype=float32, numpy=\n",
              "array([[-1.66263580e-02,  4.71503995e-02, -2.79395562e-02,\n",
              "         2.17557477e-04, -5.88240698e-02,  1.18046310e-02,\n",
              "         3.72994728e-02, -6.91428664e-04, -8.74652490e-02,\n",
              "        -4.51822467e-02,  5.07351942e-02, -8.11349368e-04,\n",
              "         3.05846464e-02,  1.18134944e-02, -2.76617985e-02,\n",
              "        -1.70718990e-02, -2.09876639e-03, -2.84710433e-02,\n",
              "         4.03377488e-02, -4.20270227e-02,  1.73879489e-02,\n",
              "        -4.75095510e-02,  1.10155987e-02, -3.74428406e-02,\n",
              "         6.75226450e-02, -2.46878136e-02,  2.38603614e-02,\n",
              "        -2.02788040e-02, -1.93370190e-02, -3.33422311e-02,\n",
              "        -6.63851481e-03, -1.34660862e-02, -1.15229171e-02,\n",
              "        -4.38531637e-02,  5.02150469e-02, -1.11891374e-01,\n",
              "         4.98412624e-02,  2.89980788e-02, -2.44805943e-02,\n",
              "         1.49655407e-02, -1.04925148e-02,  5.95291406e-02,\n",
              "        -8.01055953e-02, -4.11083698e-02, -1.15829716e-02,\n",
              "         2.78788470e-02, -1.79208554e-02,  8.97547603e-03,\n",
              "         2.49105170e-02, -7.56725594e-02, -5.82736544e-02,\n",
              "         5.83762787e-02, -6.47950098e-02,  3.49162854e-02,\n",
              "        -1.97939444e-02, -4.89452444e-02,  3.67265008e-02,\n",
              "        -4.19888869e-02,  2.17997916e-02,  6.28350750e-02,\n",
              "        -4.62383926e-02,  5.84651530e-03, -1.17729753e-02,\n",
              "         5.35729108e-03, -6.34737685e-02, -1.83258634e-02,\n",
              "         2.14376375e-02,  2.05704812e-02,  5.54760508e-02,\n",
              "         2.72288080e-02,  4.51350249e-02, -4.59223129e-02,\n",
              "        -6.83192313e-02,  9.79303010e-03,  3.56854126e-02,\n",
              "         1.63245704e-02,  4.83877361e-02, -2.69886572e-02,\n",
              "         3.97222824e-02,  1.18741840e-01, -1.15215547e-01,\n",
              "         4.52894755e-02,  1.89870112e-02, -1.18228886e-02,\n",
              "         4.23824182e-03, -4.93218750e-03,  5.64168952e-03,\n",
              "        -8.89254920e-03, -4.19566855e-02,  3.39885466e-02,\n",
              "        -4.01002131e-02, -2.67479680e-02, -1.05997063e-02,\n",
              "        -4.45095859e-02, -2.47280058e-02,  3.72926705e-02,\n",
              "        -6.75545335e-02, -1.64783392e-02, -4.08984423e-02,\n",
              "         6.45035803e-02, -1.49697182e-03, -2.85593746e-03,\n",
              "         1.04225069e-01, -4.13267314e-02, -6.87247813e-02,\n",
              "        -4.03632522e-02,  5.02149276e-02, -5.94750084e-02,\n",
              "         3.47516686e-02, -4.22331728e-02, -3.61903049e-02,\n",
              "         2.47417931e-02,  6.85123280e-02, -5.66195771e-02,\n",
              "         2.12639458e-02, -4.57023317e-03, -7.10844062e-03,\n",
              "        -6.65664375e-02,  2.44279411e-02, -3.40087488e-02,\n",
              "         7.69064128e-02, -3.62901129e-02, -4.56599221e-02,\n",
              "         9.21362732e-03,  4.37326804e-02, -9.82248113e-02,\n",
              "        -1.77521519e-02,  5.45160696e-02,  4.48611528e-02,\n",
              "         4.83087701e-04,  5.75422356e-03,  7.47313872e-02,\n",
              "         4.25052680e-02, -1.30877625e-02, -6.69231191e-02,\n",
              "         9.49372258e-03, -5.13549289e-03,  7.43191093e-02,\n",
              "        -2.61388849e-02, -9.07746051e-03, -3.82670276e-02,\n",
              "        -1.99080054e-02, -4.76787947e-02,  1.93240829e-02,\n",
              "        -1.10374451e-01,  7.28775933e-02,  1.52142774e-02,\n",
              "        -3.75873074e-02,  3.71070057e-02, -2.20832997e-03,\n",
              "         7.45566711e-02, -6.46949410e-02, -7.95045570e-02,\n",
              "         3.65076214e-02, -1.75621435e-02, -4.39714454e-02,\n",
              "        -7.45760553e-05,  1.56951509e-02,  3.39478143e-02,\n",
              "        -1.80565659e-03,  2.56444626e-02,  5.89607246e-02,\n",
              "        -1.13279875e-02,  5.20243682e-02, -2.42641028e-02,\n",
              "         1.21868595e-01, -3.42975669e-02,  1.00057861e-02,\n",
              "        -4.93626259e-02, -9.73590836e-03,  1.07966159e-02,\n",
              "         5.71233556e-02, -2.10620705e-02, -3.53853442e-02,\n",
              "         1.51617955e-02,  1.35798417e-02, -2.63298266e-02,\n",
              "        -7.17883697e-03,  3.53709422e-02,  7.58066820e-03,\n",
              "         7.28704408e-02,  1.40478890e-02, -1.41645474e-02,\n",
              "        -4.61671792e-04, -4.75987718e-02,  5.87665513e-02,\n",
              "         3.84442396e-02,  3.44491825e-02, -1.38704916e-02,\n",
              "         4.23428640e-02,  6.41805530e-02,  3.46942879e-02,\n",
              "        -2.98026279e-02, -7.19532883e-03, -3.20138037e-02,\n",
              "         1.24739809e-02,  8.02429542e-02,  9.23689902e-02,\n",
              "         2.71788239e-02, -1.03562539e-02,  5.92035577e-02,\n",
              "        -2.55934093e-02,  2.56447718e-02, -2.61577852e-02,\n",
              "        -4.93229553e-02,  4.64860275e-02,  1.68495253e-02,\n",
              "        -1.91122089e-02, -6.73359213e-03, -2.80974079e-02,\n",
              "         3.70589197e-02, -2.81344783e-02,  1.78835932e-02,\n",
              "         7.80239552e-02,  2.81574000e-02,  3.95807400e-02,\n",
              "        -6.21114261e-02,  1.50633082e-02,  9.99393035e-03,\n",
              "        -8.17749277e-02,  2.61496641e-02,  1.51839014e-03,\n",
              "         6.96145147e-02, -4.33932245e-03,  4.94991131e-02,\n",
              "        -2.11414602e-02,  1.99526027e-02, -5.49976667e-03,\n",
              "         3.71600464e-02,  1.33154355e-02,  4.39378135e-02,\n",
              "        -3.35359648e-02,  4.63914908e-02, -4.33441363e-02,\n",
              "         1.43533284e-02,  5.73082417e-02, -1.89429112e-02,\n",
              "        -5.38128726e-02, -2.66808588e-02, -4.40981463e-02,\n",
              "        -1.43578295e-02,  8.78145918e-02,  1.10140191e-02,\n",
              "         4.05851640e-02,  3.95778846e-03, -4.78337184e-02,\n",
              "         6.77109696e-04,  2.08692122e-02, -4.56349514e-02,\n",
              "         3.00614629e-02,  2.47427486e-02,  4.77752201e-02,\n",
              "         6.18033595e-02,  8.93570017e-03, -4.35315743e-02,\n",
              "         5.69240749e-02,  3.56564485e-02, -3.80814224e-02,\n",
              "        -1.50811009e-03, -1.22984834e-02, -6.86849132e-02,\n",
              "         3.63503546e-02,  3.39613967e-02, -3.15895565e-02,\n",
              "        -1.97908860e-02, -6.28112629e-02, -2.07487531e-02,\n",
              "        -3.90912928e-02, -3.59094143e-02,  1.21692279e-02,\n",
              "         2.23514773e-02,  1.06971338e-02, -2.23398637e-02,\n",
              "         2.56857220e-02,  9.86540224e-03, -3.76133509e-02,\n",
              "        -4.66584563e-02,  2.54587438e-02, -3.01954485e-02,\n",
              "        -3.75138223e-03, -1.09633803e-02,  3.04140802e-02,\n",
              "         4.12398838e-02, -2.10657828e-02,  3.10955234e-02,\n",
              "        -1.99190136e-02, -1.05352178e-01,  8.60534981e-03,\n",
              "        -1.67950466e-02, -5.20174252e-03, -4.54745181e-02,\n",
              "        -2.77483575e-02,  5.68415299e-02, -5.47560155e-02,\n",
              "        -2.20376905e-02, -4.80030999e-02,  3.30986902e-02,\n",
              "        -3.12007368e-02,  4.46312614e-02,  3.92001532e-02,\n",
              "        -9.99846961e-03,  3.20429467e-02, -3.32963541e-02,\n",
              "        -4.30578701e-02,  5.06199412e-02,  3.99638377e-02,\n",
              "        -6.14946932e-02,  4.34945524e-02, -2.58270721e-03,\n",
              "        -3.81166786e-02,  3.27945803e-03,  6.59276843e-02,\n",
              "         2.11274680e-02,  4.77636382e-02,  6.15296476e-02,\n",
              "        -5.00936545e-02,  3.24799046e-02, -3.79789583e-02,\n",
              "        -7.89101720e-02, -3.46323177e-02, -7.03604296e-02,\n",
              "         4.31552604e-02, -9.77629796e-02, -3.49804834e-02,\n",
              "         5.63957952e-02, -2.21119309e-03, -1.09805877e-03,\n",
              "         6.92293271e-02,  3.22643258e-02, -5.92523441e-02,\n",
              "         6.18608445e-02, -9.53666028e-03, -9.53370109e-02,\n",
              "         4.16767597e-02, -3.17509077e-03, -2.17361897e-02,\n",
              "         1.12373671e-02,  3.91895957e-02, -9.34201106e-02,\n",
              "         8.04724619e-02, -4.08809036e-02,  2.01990195e-02,\n",
              "        -4.82541844e-02, -1.70887969e-02,  4.60955687e-02,\n",
              "         6.62536994e-02, -2.91274916e-02, -4.38534841e-02,\n",
              "         1.96134280e-02,  4.62905765e-02, -6.78029656e-02,\n",
              "         3.14577930e-02,  9.17337928e-03,  3.81184481e-02,\n",
              "         1.99008882e-02, -1.25712268e-02,  2.06189100e-02,\n",
              "        -7.76464567e-02, -2.22058222e-02,  2.80314516e-02,\n",
              "        -1.26031199e-02, -5.23687061e-03,  7.05821365e-02,\n",
              "        -4.31765430e-03, -3.80261354e-02, -4.55190279e-02,\n",
              "        -2.64995415e-02, -1.08766809e-01, -7.59627819e-02,\n",
              "         2.92609502e-02,  1.47461030e-03, -5.36892340e-02,\n",
              "         3.06181721e-02, -3.67913246e-02, -2.14335695e-02,\n",
              "        -1.77272614e-02, -9.74615216e-02, -1.03125144e-02,\n",
              "        -5.41173778e-02, -1.04752379e-02, -5.48897982e-02,\n",
              "        -1.80576108e-02, -4.66722623e-02, -4.83387969e-02,\n",
              "         5.76836383e-03, -4.62291762e-03, -6.64381161e-02,\n",
              "        -4.68452647e-02, -9.26388204e-02, -2.55910866e-02,\n",
              "         1.26897302e-02, -1.57554005e-03,  4.36536521e-02,\n",
              "        -4.09177803e-02, -3.88602540e-02, -2.77102385e-02,\n",
              "         2.22396068e-02,  9.82679725e-02, -7.37396628e-02,\n",
              "         2.58563552e-02, -1.08310148e-01, -4.21292372e-02,\n",
              "         4.59982306e-02, -4.20353897e-02, -7.09029566e-03,\n",
              "        -4.69335401e-03,  7.15215281e-02,  3.57967876e-02,\n",
              "         1.66220535e-02,  3.01239379e-02, -5.02024740e-02,\n",
              "         3.20710219e-03, -4.21379209e-02, -2.55361665e-03,\n",
              "        -5.91018200e-02,  5.23348991e-03, -9.91106182e-02,\n",
              "         3.82629968e-02,  1.10324789e-02,  5.10664061e-02,\n",
              "         5.07532954e-02, -4.92332019e-02, -1.36014018e-02,\n",
              "        -1.31798862e-02, -5.67459799e-02, -2.61091180e-02,\n",
              "         2.12496109e-02, -5.90486601e-02, -8.09914023e-02,\n",
              "         7.07677528e-02, -4.55840724e-03, -1.68874245e-02,\n",
              "        -4.73762490e-02, -1.02495886e-02,  1.25086932e-02,\n",
              "        -1.34208389e-02,  7.78797343e-02, -6.64239153e-02,\n",
              "        -8.98086578e-02, -4.29642946e-02,  5.82406260e-02,\n",
              "        -8.07345659e-03, -5.55453449e-02, -4.42955941e-02,\n",
              "         3.25212553e-02,  3.47455330e-02,  8.16181451e-02,\n",
              "         7.00797588e-02, -1.25932898e-02,  3.40874717e-02,\n",
              "        -1.67747531e-02,  5.39952852e-02,  2.07095817e-02,\n",
              "         3.28108668e-02, -6.84262440e-02, -4.76867519e-03,\n",
              "         5.67882396e-02, -1.73078012e-03, -4.54063229e-02,\n",
              "        -5.34892567e-02,  5.81473559e-02, -4.41843383e-02,\n",
              "         6.65200651e-02, -2.76948325e-02, -6.39115945e-02,\n",
              "         3.70070487e-02,  7.69753754e-02,  2.84759272e-02,\n",
              "         4.76654842e-02,  1.64472517e-02,  8.81456118e-03,\n",
              "         3.23111936e-02, -3.26125175e-02,  6.66091545e-03,\n",
              "        -3.25946254e-04, -5.00165820e-02,  1.82347279e-02,\n",
              "         4.95832935e-02,  5.91180436e-02, -7.04485625e-02,\n",
              "         2.87711360e-02,  9.11909491e-02,  2.07497422e-02,\n",
              "        -7.89641216e-03,  3.55274305e-02, -3.74687761e-02,\n",
              "         6.34991825e-02, -6.62933066e-02, -3.03619001e-02,\n",
              "         2.42615398e-03, -1.93982050e-02,  6.78022280e-02,\n",
              "         4.47651595e-02,  3.96806821e-02,  1.75705831e-02,\n",
              "        -7.73128215e-03, -3.42491195e-02,  2.66093537e-02,\n",
              "        -5.62701076e-02,  3.36810164e-02,  3.46783996e-02,\n",
              "         6.06221631e-02, -6.63411105e-03,  6.27311394e-02,\n",
              "         3.71857584e-02,  6.50705397e-02,  6.52753413e-02,\n",
              "        -5.46046160e-02, -6.32436648e-02, -1.06390389e-02,\n",
              "        -6.77074632e-03, -2.32745409e-02]], dtype=float32)>"
            ]
          },
          "metadata": {},
          "execution_count": 21
        }
      ],
      "source": [
        "thai_result"
      ]
    },
    {
      "cell_type": "markdown",
      "metadata": {
        "id": "Qgwkc67EQddl"
      },
      "source": [
        "# USE model"
      ]
    },
    {
      "cell_type": "code",
      "execution_count": null,
      "metadata": {
        "id": "9aJHjb4YsIrE"
      },
      "outputs": [],
      "source": [
        "from keras.layers import Dense, Input, LSTM, Embedding, Dropout, Activation\n",
        "from keras.layers import Bidirectional, GlobalMaxPool1D\n",
        "from keras.models import Model\n",
        "from keras import initializers, regularizers, constraints, optimizers, layers"
      ]
    },
    {
      "cell_type": "code",
      "execution_count": null,
      "metadata": {
        "id": "fkekpGWp-92F"
      },
      "outputs": [],
      "source": [
        "from keras.preprocessing.text import Tokenizer"
      ]
    },
    {
      "cell_type": "code",
      "execution_count": null,
      "metadata": {
        "id": "eSod04hZ_Qk1"
      },
      "outputs": [],
      "source": [
        "from keras_preprocessing.sequence import pad_sequences"
      ]
    },
    {
      "cell_type": "code",
      "execution_count": null,
      "metadata": {
        "id": "B5Cb7P2IoCY-"
      },
      "outputs": [],
      "source": [
        "embed_size = 100 # how big is each word vector\n",
        "max_features = 20000 # how many unique words to use (i.e num rows in embedding vector)"
      ]
    },
    {
      "cell_type": "code",
      "execution_count": null,
      "metadata": {
        "id": "aiHT6pqHWNWd"
      },
      "outputs": [],
      "source": [
        "maxlen = 512 # max number of words in a comment to use\n",
        "inp = Input(shape=(maxlen,))"
      ]
    },
    {
      "cell_type": "code",
      "execution_count": null,
      "metadata": {
        "id": "Ho9Eufj8ZAEQ"
      },
      "outputs": [],
      "source": [
        "import tensorflow as tf\n",
        "import tensorflow_hub as hub"
      ]
    },
    {
      "cell_type": "code",
      "execution_count": null,
      "metadata": {
        "id": "aoXqwdmVUMtc"
      },
      "outputs": [],
      "source": [
        "hub_layer = hub.KerasLayer(embed,input_shape=[],dtype=tf.string, trainable=True)"
      ]
    },
    {
      "cell_type": "code",
      "execution_count": null,
      "metadata": {
        "id": "KpvYK2mUacuw"
      },
      "outputs": [],
      "source": [
        "# maxlen = 512 # max number of words in a comment to use\n",
        "# inp = Input(shape=(maxlen,))\n",
        "# x = Embedding(max_features, embed_size)(inp)\n",
        "# x = Bidirectional(LSTM(64, return_sequences=True, dropout=0.3, recurrent_dropout=0.3))(x)\n",
        "# x = GlobalMaxPool1D()(x)\n",
        "# x = Dense(32, activation=\"relu\")(x)\n",
        "# x = Dropout(0.3)(x)\n",
        "# x = Dense(6, activation=\"sigmoid\")(x)\n",
        "# model = Model(inputs=inp, outputs=x)\n",
        "# model.compile(optimizer=tf.keras.optimizers.Adam(lr=1e-4), loss='binary_crossentropy', metrics=['accuracy'])\n",
        "# model.summary()"
      ]
    },
    {
      "cell_type": "code",
      "execution_count": null,
      "metadata": {
        "colab": {
          "base_uri": "https://localhost:8080/"
        },
        "id": "aNua_b8ZUWJL",
        "outputId": "e9bf6e78-e8ca-4b4e-a4af-751f50ae3de6"
      },
      "outputs": [
        {
          "name": "stdout",
          "output_type": "stream",
          "text": [
            "Model: \"sequential\"\n",
            "_________________________________________________________________\n",
            " Layer (type)                Output Shape              Param #   \n",
            "=================================================================\n",
            " keras_layer (KerasLayer)    (None, 512)               68927232  \n",
            "                                                                 \n",
            " dropout (Dropout)           (None, 512)               0         \n",
            "                                                                 \n",
            " dense (Dense)               (None, 128)               65664     \n",
            "                                                                 \n",
            " dropout_1 (Dropout)         (None, 128)               0         \n",
            "                                                                 \n",
            " dense_1 (Dense)             (None, 6)                 774       \n",
            "                                                                 \n",
            "=================================================================\n",
            "Total params: 68,993,670\n",
            "Trainable params: 68,993,670\n",
            "Non-trainable params: 0\n",
            "_________________________________________________________________\n"
          ]
        }
      ],
      "source": [
        "model = tf.keras.Sequential()\n",
        "model.add(hub_layer)\n",
        "model.add(tf.keras.layers.Dropout(0.3))\n",
        "model.add(tf.keras.layers.Dense(128, activation='relu'))\n",
        "model.add(tf.keras.layers.Dropout(0.3))\n",
        "model.add(tf.keras.layers.Dense(6, activation='sigmoid'))\n",
        "model.compile(optimizer='adam',loss=tf.keras.losses.BinaryCrossentropy(),metrics=['accuracy'])\n",
        "model.summary()"
      ]
    },
    {
      "cell_type": "code",
      "execution_count": null,
      "metadata": {
        "colab": {
          "background_save": true,
          "base_uri": "https://localhost:8080/"
        },
        "id": "bn0Yb5w1o0SR",
        "outputId": "dfc532a5-bd68-4c41-d8d2-323c8beb28fb"
      },
      "outputs": [
        {
          "name": "stdout",
          "output_type": "stream",
          "text": [
            "Epoch 1/10\n",
            "201/201 [==============================] - 997s 5s/step - loss: 0.2090 - accuracy: 0.5488 - val_loss: 0.1344 - val_accuracy: 0.6157\n",
            "Epoch 2/10\n",
            "201/201 [==============================] - 867s 4s/step - loss: 0.1161 - accuracy: 0.5824 - val_loss: 0.1212 - val_accuracy: 0.7532\n",
            "Epoch 3/10\n",
            "201/201 [==============================] - 869s 4s/step - loss: 0.0966 - accuracy: 0.6590 - val_loss: 0.1347 - val_accuracy: 0.8387\n",
            "Epoch 4/10\n",
            "201/201 [==============================] - 865s 4s/step - loss: 0.0868 - accuracy: 0.6108 - val_loss: 0.1133 - val_accuracy: 0.7826\n",
            "Epoch 5/10\n",
            "201/201 [==============================] - 861s 4s/step - loss: 0.0819 - accuracy: 0.5881 - val_loss: 0.1226 - val_accuracy: 0.4432\n",
            "Epoch 6/10\n",
            "201/201 [==============================] - 869s 4s/step - loss: 0.0780 - accuracy: 0.5925 - val_loss: 0.1184 - val_accuracy: 0.5175\n",
            "Epoch 7/10\n",
            "201/201 [==============================] - 860s 4s/step - loss: 0.0763 - accuracy: 0.6105 - val_loss: 0.1317 - val_accuracy: 0.4769\n",
            "Epoch 8/10\n",
            "201/201 [==============================] - 868s 4s/step - loss: 0.0751 - accuracy: 0.6484 - val_loss: 0.1248 - val_accuracy: 0.5316\n",
            "Epoch 9/10\n",
            "201/201 [==============================] - 873s 4s/step - loss: 0.0765 - accuracy: 0.6279 - val_loss: 0.1269 - val_accuracy: 0.7167\n",
            "Epoch 10/10\n",
            "201/201 [==============================] - 875s 4s/step - loss: 0.0728 - accuracy: 0.6062 - val_loss: 0.1280 - val_accuracy: 0.4895\n"
          ]
        }
      ],
      "source": [
        "from tensorflow.keras.callbacks import EarlyStopping, TensorBoard, ModelCheckpoint\n",
        "# กำหนด callback เพื่อบันทึก checkpoint\n",
        "checkpoint_path = \"/content/drive/MyDrive/training/trainmodel_USE_new.ckpt\"\n",
        "checkpoint_callback = tf.keras.callbacks.ModelCheckpoint(\n",
        "    filepath=checkpoint_path,\n",
        "    save_weights_only=True,\n",
        "    save_freq=1  # บันทึก checkpoint ทุก 1 epochs\n",
        ")\n",
        "# es = EarlyStopping(monitor='val_accuracy', mode='max', patience = 5)\n",
        "callback_list = [checkpoint_callback]\n",
        "model.fit(X_train, y_train, batch_size=32, epochs=10, validation_split=0.1, callbacks=[callback_list]);"
      ]
    },
    {
      "cell_type": "code",
      "execution_count": null,
      "metadata": {
        "id": "p5ds28k6rgof"
      },
      "outputs": [],
      "source": [
        "import tensorflow as tf\n",
        "import tensorflow_hub as hub"
      ]
    },
    {
      "cell_type": "code",
      "execution_count": null,
      "metadata": {
        "colab": {
          "background_save": true
        },
        "id": "4sqc-5IJrgof"
      },
      "outputs": [],
      "source": [
        "hub_layer = hub.KerasLayer(embed,input_shape=[],dtype=tf.string, trainable=True)"
      ]
    },
    {
      "cell_type": "code",
      "execution_count": null,
      "metadata": {
        "id": "rRv2WC8C2yxZ"
      },
      "outputs": [],
      "source": [
        "model.save('/content/drive/MyDrive/training/transformer_USE')"
      ]
    },
    {
      "cell_type": "code",
      "source": [
        "trained_model = tf.keras.models.load_model('/content/drive/MyDrive/training/transformer_USE')"
      ],
      "metadata": {
        "id": "-w7NHNtp7g7q"
      },
      "execution_count": null,
      "outputs": []
    },
    {
      "cell_type": "code",
      "execution_count": null,
      "metadata": {
        "id": "mQkyXjmAg7Ee"
      },
      "outputs": [],
      "source": [
        "import numpy as np\n",
        "from sklearn.metrics import f1_score \n",
        "\n",
        "def threshold_tuning(y_true, y_pred_proba, threshold_range=(0.1, 0.9), step=0.1):\n",
        "    \"\"\"\n",
        "    ฟังก์ชั่น threshold_tuning ใช้สำหรับปรับค่า threshold โดยใช้ validation set \n",
        "    เพื่อให้ได้ผลลัพธ์ที่ดีที่สุด\n",
        "    \n",
        "    :param y_true: numpy array ของค่าจริงของ target variable\n",
        "    :param y_pred_proba: numpy array ของค่าความน่าจะเป็นที่ได้มาจากโมเดล\n",
        "    :param threshold_range: tuple ของช่วงของค่า threshold ที่จะทดลอง\n",
        "    :param step: ค่าของระยะห่างที่ใช้ในการทดสอบ threshold ต่างๆ\n",
        "    \n",
        "    :return: tuple ของค่าความแม่นยำที่ดีที่สุดและค่า threshold ที่ใช้\n",
        "    \"\"\"\n",
        "    best_accuracy = 0\n",
        "    best_threshold = 0\n",
        "\n",
        "    # ทดสอบ threshold ต่างๆ\n",
        "    for threshold in np.arange(threshold_range[0], threshold_range[1], step):\n",
        "        y_pred = (y_pred_proba >= threshold).astype(int)\n",
        "        accuracy = f1_score(y_true, y_pred, average='micro')\n",
        "\n",
        "        # ถ้าค่าความแม่นยำสูงกว่า best_accuracy ให้ปรับค่า best_accuracy และ best_threshold\n",
        "        if accuracy > best_accuracy:\n",
        "            best_accuracy = accuracy\n",
        "            best_threshold = threshold\n",
        "\n",
        "    return best_accuracy, best_threshold\n",
        "    #     print(accuracy,threshold)\n"
      ]
    },
    {
      "cell_type": "code",
      "execution_count": null,
      "metadata": {
        "id": "Lv_5H2ITD2FC",
        "colab": {
          "base_uri": "https://localhost:8080/"
        },
        "outputId": "737174bb-0a63-4926-9b3b-ca0ab6baf4bd"
      },
      "outputs": [
        {
          "output_type": "stream",
          "name": "stdout",
          "text": [
            "96/96 [==============================] - 3s 13ms/step\n"
          ]
        }
      ],
      "source": [
        "y_pred_TF = trained_model.predict(X_test)"
      ]
    },
    {
      "cell_type": "code",
      "execution_count": null,
      "metadata": {
        "id": "7xHxMw2Nce5e",
        "colab": {
          "base_uri": "https://localhost:8080/"
        },
        "outputId": "18b8bb2d-493b-4018-a347-c0ef74610c6d"
      },
      "outputs": [
        {
          "output_type": "execute_result",
          "data": {
            "text/plain": [
              "array([[9.4525242e-04, 1.8660929e-06, 1.5408767e-03, 2.3034043e-03,\n",
              "        6.1639881e-04, 5.9466949e-04],\n",
              "       [6.1043102e-01, 8.2535623e-04, 2.9524376e-03, 4.4143843e-03,\n",
              "        9.0770777e-03, 3.4577122e-03],\n",
              "       [4.7615752e-01, 2.8845293e-03, 1.5468333e-03, 6.3833529e-03,\n",
              "        6.3548303e-01, 2.1363741e-02],\n",
              "       ...,\n",
              "       [9.5973951e-01, 2.3914283e-02, 2.8372444e-02, 6.5761944e-03,\n",
              "        2.7600756e-02, 1.1318774e-02],\n",
              "       [1.6459727e-01, 6.7216167e-03, 9.1899276e-01, 4.0150764e-03,\n",
              "        5.1898560e-03, 3.6450918e-03],\n",
              "       [3.1050401e-02, 3.1613592e-05, 2.3331938e-03, 1.8523838e-03,\n",
              "        2.7343091e-03, 8.7379047e-04]], dtype=float32)"
            ]
          },
          "metadata": {},
          "execution_count": 30
        }
      ],
      "source": [
        "y_pred_TF"
      ]
    },
    {
      "cell_type": "code",
      "execution_count": null,
      "metadata": {
        "id": "yeWTuk6eIA-v"
      },
      "outputs": [],
      "source": [
        "a = y_pred_TF > 0.1"
      ]
    },
    {
      "cell_type": "code",
      "execution_count": null,
      "metadata": {
        "id": "xvO03i2IH962"
      },
      "outputs": [],
      "source": [
        "import numpy\n",
        "y_pred_threshold01 = numpy.multiply(a, 1)"
      ]
    },
    {
      "cell_type": "code",
      "execution_count": null,
      "metadata": {
        "id": "yAT3Fhr6b-ji"
      },
      "outputs": [],
      "source": [
        "list_classes = ['toxic', 'severe_toxic', 'obscene', 'threat', 'insult', 'identity_hate']"
      ]
    },
    {
      "cell_type": "code",
      "execution_count": null,
      "metadata": {
        "id": "IS1AhpFaicL8",
        "colab": {
          "base_uri": "https://localhost:8080/"
        },
        "outputId": "07995b53-3e21-43d1-d3b5-a823d13c7bba"
      },
      "outputs": [
        {
          "output_type": "execute_result",
          "data": {
            "text/plain": [
              "(0.7601588756492516, 0.30000000000000004)"
            ]
          },
          "metadata": {},
          "execution_count": 30
        }
      ],
      "source": [
        "threshold_tuning(y_test, y_pred_TF)"
      ]
    },
    {
      "cell_type": "code",
      "execution_count": null,
      "metadata": {
        "id": "V_qKBUu6G9XB",
        "colab": {
          "base_uri": "https://localhost:8080/"
        },
        "outputId": "57347ef1-8976-4bb8-dab1-e978fa883e80"
      },
      "outputs": [
        {
          "output_type": "stream",
          "name": "stdout",
          "text": [
            "               precision    recall  f1-score   support\n",
            "\n",
            "        toxic       0.68      0.83      0.75       593\n",
            " severe_toxic       0.31      0.39      0.34        46\n",
            "      obscene       0.77      0.97      0.86       694\n",
            "       threat       0.12      0.08      0.10        48\n",
            "       insult       0.51      0.64      0.57       238\n",
            "identity_hate       0.27      0.26      0.27        68\n",
            "\n",
            "    micro avg       0.66      0.80      0.73      1687\n",
            "    macro avg       0.44      0.53      0.48      1687\n",
            " weighted avg       0.65      0.80      0.72      1687\n",
            "  samples avg       0.36      0.39      0.36      1687\n",
            "\n"
          ]
        },
        {
          "output_type": "stream",
          "name": "stderr",
          "text": [
            "/usr/local/lib/python3.10/dist-packages/sklearn/metrics/_classification.py:1344: UndefinedMetricWarning: Precision and F-score are ill-defined and being set to 0.0 in samples with no predicted labels. Use `zero_division` parameter to control this behavior.\n",
            "  _warn_prf(average, modifier, msg_start, len(result))\n",
            "/usr/local/lib/python3.10/dist-packages/sklearn/metrics/_classification.py:1344: UndefinedMetricWarning: Recall and F-score are ill-defined and being set to 0.0 in samples with no true labels. Use `zero_division` parameter to control this behavior.\n",
            "  _warn_prf(average, modifier, msg_start, len(result))\n"
          ]
        }
      ],
      "source": [
        "from sklearn.metrics import classification_report, confusion_matrix\n",
        "print(classification_report(y_test, y_pred_threshold01, target_names=list_classes))"
      ]
    },
    {
      "cell_type": "code",
      "execution_count": null,
      "metadata": {
        "id": "9gk7MDznm0MP"
      },
      "outputs": [],
      "source": [
        "# # โหลดน้ำหนักจาก checkpoint เพื่อเทรนต่อจาก epoch ที่ 1\n",
        "# latest_checkpoint = tf.train.latest_checkpoint(\"/content/drive/MyDrive/training/\")\n",
        "# model.load_weights(latest_checkpoint)\n",
        "# # ฝึกโมเดลต่อเริ่มต้นที่ epoch ที่ 2\n",
        "# model.fit(X_train, y_train, batch_size=32, epochs=10, initial_epoch=3, validation_split=0.1, callbacks=[callback_list])"
      ]
    },
    {
      "cell_type": "code",
      "execution_count": null,
      "metadata": {
        "id": "W2-7AfyDyYWL"
      },
      "outputs": [],
      "source": [
        "# latest_checkpoint = tf.train.latest_checkpoint(\"/content/drive/MyDrive/training/\")\n",
        "# model.load_weights(latest_checkpoint)"
      ]
    },
    {
      "cell_type": "code",
      "source": [
        "Ypred_DF = pd.DataFrame(y_pred_threshold01).rename(columns={0: \"toxic_pred\", 1: \"severe_toxic_pred\", 2: \"obscene_pred\", 3: \"threat_pred\", 4: \"insult_pred\",5: \"identity_hate_pred\"})"
      ],
      "metadata": {
        "id": "humKaWaM3UFA"
      },
      "execution_count": null,
      "outputs": []
    },
    {
      "cell_type": "code",
      "source": [
        "X_test.shape"
      ],
      "metadata": {
        "colab": {
          "base_uri": "https://localhost:8080/"
        },
        "id": "0qXXWCxu507u",
        "outputId": "814ba0b9-3cdb-4751-a531-795c2625eb5f"
      },
      "execution_count": null,
      "outputs": [
        {
          "output_type": "execute_result",
          "data": {
            "text/plain": [
              "(3053,)"
            ]
          },
          "metadata": {},
          "execution_count": 45
        }
      ]
    },
    {
      "cell_type": "code",
      "source": [
        "y_test.shape"
      ],
      "metadata": {
        "colab": {
          "base_uri": "https://localhost:8080/"
        },
        "id": "50q8tNO554eC",
        "outputId": "62559865-621a-4696-911f-9b11a4fce7b3"
      },
      "execution_count": null,
      "outputs": [
        {
          "output_type": "execute_result",
          "data": {
            "text/plain": [
              "(3053, 6)"
            ]
          },
          "metadata": {},
          "execution_count": 46
        }
      ]
    },
    {
      "cell_type": "code",
      "source": [
        "X_test = X_test.reset_index(drop = True)"
      ],
      "metadata": {
        "id": "wznXyU-i56u8"
      },
      "execution_count": null,
      "outputs": []
    },
    {
      "cell_type": "code",
      "source": [
        "Ypred_DF = Ypred_DF.reset_index(drop = True)"
      ],
      "metadata": {
        "id": "uoyAoQLQ6H8f"
      },
      "execution_count": null,
      "outputs": []
    },
    {
      "cell_type": "code",
      "source": [
        "y_test = y_test.reset_index(drop = True)"
      ],
      "metadata": {
        "id": "rtlj75oi6MJ5"
      },
      "execution_count": null,
      "outputs": []
    },
    {
      "cell_type": "code",
      "source": [
        "DF_compare = pd.concat([X_test, Ypred_DF, y_test], axis = 1)"
      ],
      "metadata": {
        "id": "uTerE_qb2u-A"
      },
      "execution_count": null,
      "outputs": []
    },
    {
      "cell_type": "code",
      "source": [
        "DF_compare"
      ],
      "metadata": {
        "colab": {
          "base_uri": "https://localhost:8080/",
          "height": 423
        },
        "id": "GNF2aTsT7PZG",
        "outputId": "aa5a5d4e-6b00-4463-e6bf-8cf887c29b87"
      },
      "execution_count": null,
      "outputs": [
        {
          "output_type": "execute_result",
          "data": {
            "text/plain": [
              "                                             text_token  toxic_pred  \\\n",
              "0     harry ประกาศ เอเชียทัวร์ กุคิด ชุด รอ ละค่า ชุ...           0   \n",
              "1                                   ปาก เงียบ โหน กระแส           1   \n",
              "2     ออกอ่ะยาง อ่ะยาง มั้ง ใจ ท่อง พุท โธ แบ ดยพ่ดก...           1   \n",
              "3                                           พ่ก ยิง เรย           0   \n",
              "4     ราชบุรี ว่าง คิว เย็ด ผม กี่ รอบ สนใจ ทักไลน์p...           0   \n",
              "...                                                 ...         ...   \n",
              "3048  ตัวอย่าง ดี คน ชอบ คหสต ทำร้าย สัก พิสูจน์ ดู ...           0   \n",
              "3049  ดาราจักรรักลานาใจ ดู เศร้า ตอน ฮองเฮา น้อง สาว...           0   \n",
              "3050  อ๋อ เฉลย ปะ ตัดต่อ อีควาย ชิป ไล่ แปะ รูป ทวิต...           1   \n",
              "3051                           อารมณ์ หวีด ขนส่ง หัวควย           0   \n",
              "3052  วินก ร่าง ทำร้าย ทบ ขส อ้าง โกรธ จนททำ เรื่อง ...           0   \n",
              "\n",
              "      severe_toxic_pred  obscene_pred  threat_pred  insult_pred  \\\n",
              "0                     0             0            0            0   \n",
              "1                     0             0            0            0   \n",
              "2                     0             0            0            1   \n",
              "3                     0             0            0            0   \n",
              "4                     0             1            0            0   \n",
              "...                 ...           ...          ...          ...   \n",
              "3048                  0             0            0            0   \n",
              "3049                  0             0            0            0   \n",
              "3050                  0             0            0            0   \n",
              "3051                  0             1            0            0   \n",
              "3052                  0             0            0            0   \n",
              "\n",
              "      identity_hate_pred  toxic  severe_toxic  obscene  threat  insult  \\\n",
              "0                      0      0             0        0       0       0   \n",
              "1                      0      0             0        0       0       0   \n",
              "2                      0      0             0        0       0       0   \n",
              "3                      0      0             0        0       0       0   \n",
              "4                      0      0             0        1       0       0   \n",
              "...                  ...    ...           ...      ...     ...     ...   \n",
              "3048                   0      0             0        0       0       0   \n",
              "3049                   0      0             0        0       0       0   \n",
              "3050                   0      1             1        0       0       0   \n",
              "3051                   0      1             0        0       0       0   \n",
              "3052                   0      0             0        0       0       0   \n",
              "\n",
              "      identity_hate  \n",
              "0                 0  \n",
              "1                 0  \n",
              "2                 0  \n",
              "3                 0  \n",
              "4                 0  \n",
              "...             ...  \n",
              "3048              0  \n",
              "3049              0  \n",
              "3050              0  \n",
              "3051              0  \n",
              "3052              0  \n",
              "\n",
              "[3053 rows x 13 columns]"
            ],
            "text/html": [
              "\n",
              "  <div id=\"df-7346e54f-512a-482d-8358-e93e126f0f01\">\n",
              "    <div class=\"colab-df-container\">\n",
              "      <div>\n",
              "<style scoped>\n",
              "    .dataframe tbody tr th:only-of-type {\n",
              "        vertical-align: middle;\n",
              "    }\n",
              "\n",
              "    .dataframe tbody tr th {\n",
              "        vertical-align: top;\n",
              "    }\n",
              "\n",
              "    .dataframe thead th {\n",
              "        text-align: right;\n",
              "    }\n",
              "</style>\n",
              "<table border=\"1\" class=\"dataframe\">\n",
              "  <thead>\n",
              "    <tr style=\"text-align: right;\">\n",
              "      <th></th>\n",
              "      <th>text_token</th>\n",
              "      <th>toxic_pred</th>\n",
              "      <th>severe_toxic_pred</th>\n",
              "      <th>obscene_pred</th>\n",
              "      <th>threat_pred</th>\n",
              "      <th>insult_pred</th>\n",
              "      <th>identity_hate_pred</th>\n",
              "      <th>toxic</th>\n",
              "      <th>severe_toxic</th>\n",
              "      <th>obscene</th>\n",
              "      <th>threat</th>\n",
              "      <th>insult</th>\n",
              "      <th>identity_hate</th>\n",
              "    </tr>\n",
              "  </thead>\n",
              "  <tbody>\n",
              "    <tr>\n",
              "      <th>0</th>\n",
              "      <td>harry ประกาศ เอเชียทัวร์ กุคิด ชุด รอ ละค่า ชุ...</td>\n",
              "      <td>0</td>\n",
              "      <td>0</td>\n",
              "      <td>0</td>\n",
              "      <td>0</td>\n",
              "      <td>0</td>\n",
              "      <td>0</td>\n",
              "      <td>0</td>\n",
              "      <td>0</td>\n",
              "      <td>0</td>\n",
              "      <td>0</td>\n",
              "      <td>0</td>\n",
              "      <td>0</td>\n",
              "    </tr>\n",
              "    <tr>\n",
              "      <th>1</th>\n",
              "      <td>ปาก เงียบ โหน กระแส</td>\n",
              "      <td>1</td>\n",
              "      <td>0</td>\n",
              "      <td>0</td>\n",
              "      <td>0</td>\n",
              "      <td>0</td>\n",
              "      <td>0</td>\n",
              "      <td>0</td>\n",
              "      <td>0</td>\n",
              "      <td>0</td>\n",
              "      <td>0</td>\n",
              "      <td>0</td>\n",
              "      <td>0</td>\n",
              "    </tr>\n",
              "    <tr>\n",
              "      <th>2</th>\n",
              "      <td>ออกอ่ะยาง อ่ะยาง มั้ง ใจ ท่อง พุท โธ แบ ดยพ่ดก...</td>\n",
              "      <td>1</td>\n",
              "      <td>0</td>\n",
              "      <td>0</td>\n",
              "      <td>0</td>\n",
              "      <td>1</td>\n",
              "      <td>0</td>\n",
              "      <td>0</td>\n",
              "      <td>0</td>\n",
              "      <td>0</td>\n",
              "      <td>0</td>\n",
              "      <td>0</td>\n",
              "      <td>0</td>\n",
              "    </tr>\n",
              "    <tr>\n",
              "      <th>3</th>\n",
              "      <td>พ่ก ยิง เรย</td>\n",
              "      <td>0</td>\n",
              "      <td>0</td>\n",
              "      <td>0</td>\n",
              "      <td>0</td>\n",
              "      <td>0</td>\n",
              "      <td>0</td>\n",
              "      <td>0</td>\n",
              "      <td>0</td>\n",
              "      <td>0</td>\n",
              "      <td>0</td>\n",
              "      <td>0</td>\n",
              "      <td>0</td>\n",
              "    </tr>\n",
              "    <tr>\n",
              "      <th>4</th>\n",
              "      <td>ราชบุรี ว่าง คิว เย็ด ผม กี่ รอบ สนใจ ทักไลน์p...</td>\n",
              "      <td>0</td>\n",
              "      <td>0</td>\n",
              "      <td>1</td>\n",
              "      <td>0</td>\n",
              "      <td>0</td>\n",
              "      <td>0</td>\n",
              "      <td>0</td>\n",
              "      <td>0</td>\n",
              "      <td>1</td>\n",
              "      <td>0</td>\n",
              "      <td>0</td>\n",
              "      <td>0</td>\n",
              "    </tr>\n",
              "    <tr>\n",
              "      <th>...</th>\n",
              "      <td>...</td>\n",
              "      <td>...</td>\n",
              "      <td>...</td>\n",
              "      <td>...</td>\n",
              "      <td>...</td>\n",
              "      <td>...</td>\n",
              "      <td>...</td>\n",
              "      <td>...</td>\n",
              "      <td>...</td>\n",
              "      <td>...</td>\n",
              "      <td>...</td>\n",
              "      <td>...</td>\n",
              "      <td>...</td>\n",
              "    </tr>\n",
              "    <tr>\n",
              "      <th>3048</th>\n",
              "      <td>ตัวอย่าง ดี คน ชอบ คหสต ทำร้าย สัก พิสูจน์ ดู ...</td>\n",
              "      <td>0</td>\n",
              "      <td>0</td>\n",
              "      <td>0</td>\n",
              "      <td>0</td>\n",
              "      <td>0</td>\n",
              "      <td>0</td>\n",
              "      <td>0</td>\n",
              "      <td>0</td>\n",
              "      <td>0</td>\n",
              "      <td>0</td>\n",
              "      <td>0</td>\n",
              "      <td>0</td>\n",
              "    </tr>\n",
              "    <tr>\n",
              "      <th>3049</th>\n",
              "      <td>ดาราจักรรักลานาใจ ดู เศร้า ตอน ฮองเฮา น้อง สาว...</td>\n",
              "      <td>0</td>\n",
              "      <td>0</td>\n",
              "      <td>0</td>\n",
              "      <td>0</td>\n",
              "      <td>0</td>\n",
              "      <td>0</td>\n",
              "      <td>0</td>\n",
              "      <td>0</td>\n",
              "      <td>0</td>\n",
              "      <td>0</td>\n",
              "      <td>0</td>\n",
              "      <td>0</td>\n",
              "    </tr>\n",
              "    <tr>\n",
              "      <th>3050</th>\n",
              "      <td>อ๋อ เฉลย ปะ ตัดต่อ อีควาย ชิป ไล่ แปะ รูป ทวิต...</td>\n",
              "      <td>1</td>\n",
              "      <td>0</td>\n",
              "      <td>0</td>\n",
              "      <td>0</td>\n",
              "      <td>0</td>\n",
              "      <td>0</td>\n",
              "      <td>1</td>\n",
              "      <td>1</td>\n",
              "      <td>0</td>\n",
              "      <td>0</td>\n",
              "      <td>0</td>\n",
              "      <td>0</td>\n",
              "    </tr>\n",
              "    <tr>\n",
              "      <th>3051</th>\n",
              "      <td>อารมณ์ หวีด ขนส่ง หัวควย</td>\n",
              "      <td>0</td>\n",
              "      <td>0</td>\n",
              "      <td>1</td>\n",
              "      <td>0</td>\n",
              "      <td>0</td>\n",
              "      <td>0</td>\n",
              "      <td>1</td>\n",
              "      <td>0</td>\n",
              "      <td>0</td>\n",
              "      <td>0</td>\n",
              "      <td>0</td>\n",
              "      <td>0</td>\n",
              "    </tr>\n",
              "    <tr>\n",
              "      <th>3052</th>\n",
              "      <td>วินก ร่าง ทำร้าย ทบ ขส อ้าง โกรธ จนททำ เรื่อง ...</td>\n",
              "      <td>0</td>\n",
              "      <td>0</td>\n",
              "      <td>0</td>\n",
              "      <td>0</td>\n",
              "      <td>0</td>\n",
              "      <td>0</td>\n",
              "      <td>0</td>\n",
              "      <td>0</td>\n",
              "      <td>0</td>\n",
              "      <td>0</td>\n",
              "      <td>0</td>\n",
              "      <td>0</td>\n",
              "    </tr>\n",
              "  </tbody>\n",
              "</table>\n",
              "<p>3053 rows × 13 columns</p>\n",
              "</div>\n",
              "      <button class=\"colab-df-convert\" onclick=\"convertToInteractive('df-7346e54f-512a-482d-8358-e93e126f0f01')\"\n",
              "              title=\"Convert this dataframe to an interactive table.\"\n",
              "              style=\"display:none;\">\n",
              "        \n",
              "  <svg xmlns=\"http://www.w3.org/2000/svg\" height=\"24px\"viewBox=\"0 0 24 24\"\n",
              "       width=\"24px\">\n",
              "    <path d=\"M0 0h24v24H0V0z\" fill=\"none\"/>\n",
              "    <path d=\"M18.56 5.44l.94 2.06.94-2.06 2.06-.94-2.06-.94-.94-2.06-.94 2.06-2.06.94zm-11 1L8.5 8.5l.94-2.06 2.06-.94-2.06-.94L8.5 2.5l-.94 2.06-2.06.94zm10 10l.94 2.06.94-2.06 2.06-.94-2.06-.94-.94-2.06-.94 2.06-2.06.94z\"/><path d=\"M17.41 7.96l-1.37-1.37c-.4-.4-.92-.59-1.43-.59-.52 0-1.04.2-1.43.59L10.3 9.45l-7.72 7.72c-.78.78-.78 2.05 0 2.83L4 21.41c.39.39.9.59 1.41.59.51 0 1.02-.2 1.41-.59l7.78-7.78 2.81-2.81c.8-.78.8-2.07 0-2.86zM5.41 20L4 18.59l7.72-7.72 1.47 1.35L5.41 20z\"/>\n",
              "  </svg>\n",
              "      </button>\n",
              "      \n",
              "  <style>\n",
              "    .colab-df-container {\n",
              "      display:flex;\n",
              "      flex-wrap:wrap;\n",
              "      gap: 12px;\n",
              "    }\n",
              "\n",
              "    .colab-df-convert {\n",
              "      background-color: #E8F0FE;\n",
              "      border: none;\n",
              "      border-radius: 50%;\n",
              "      cursor: pointer;\n",
              "      display: none;\n",
              "      fill: #1967D2;\n",
              "      height: 32px;\n",
              "      padding: 0 0 0 0;\n",
              "      width: 32px;\n",
              "    }\n",
              "\n",
              "    .colab-df-convert:hover {\n",
              "      background-color: #E2EBFA;\n",
              "      box-shadow: 0px 1px 2px rgba(60, 64, 67, 0.3), 0px 1px 3px 1px rgba(60, 64, 67, 0.15);\n",
              "      fill: #174EA6;\n",
              "    }\n",
              "\n",
              "    [theme=dark] .colab-df-convert {\n",
              "      background-color: #3B4455;\n",
              "      fill: #D2E3FC;\n",
              "    }\n",
              "\n",
              "    [theme=dark] .colab-df-convert:hover {\n",
              "      background-color: #434B5C;\n",
              "      box-shadow: 0px 1px 3px 1px rgba(0, 0, 0, 0.15);\n",
              "      filter: drop-shadow(0px 1px 2px rgba(0, 0, 0, 0.3));\n",
              "      fill: #FFFFFF;\n",
              "    }\n",
              "  </style>\n",
              "\n",
              "      <script>\n",
              "        const buttonEl =\n",
              "          document.querySelector('#df-7346e54f-512a-482d-8358-e93e126f0f01 button.colab-df-convert');\n",
              "        buttonEl.style.display =\n",
              "          google.colab.kernel.accessAllowed ? 'block' : 'none';\n",
              "\n",
              "        async function convertToInteractive(key) {\n",
              "          const element = document.querySelector('#df-7346e54f-512a-482d-8358-e93e126f0f01');\n",
              "          const dataTable =\n",
              "            await google.colab.kernel.invokeFunction('convertToInteractive',\n",
              "                                                     [key], {});\n",
              "          if (!dataTable) return;\n",
              "\n",
              "          const docLinkHtml = 'Like what you see? Visit the ' +\n",
              "            '<a target=\"_blank\" href=https://colab.research.google.com/notebooks/data_table.ipynb>data table notebook</a>'\n",
              "            + ' to learn more about interactive tables.';\n",
              "          element.innerHTML = '';\n",
              "          dataTable['output_type'] = 'display_data';\n",
              "          await google.colab.output.renderOutput(dataTable, element);\n",
              "          const docLink = document.createElement('div');\n",
              "          docLink.innerHTML = docLinkHtml;\n",
              "          element.appendChild(docLink);\n",
              "        }\n",
              "      </script>\n",
              "    </div>\n",
              "  </div>\n",
              "  "
            ]
          },
          "metadata": {},
          "execution_count": 51
        }
      ]
    },
    {
      "cell_type": "code",
      "source": [
        "DF_compare[[\"text_token\", \"toxic_pred\", \"toxic\", \"severe_toxic_pred\", \"severe_toxic\", \"obscene_pred\", \"obscene\", \"threat_pred\", \"threat\", \"insult_pred\", \"insult\", \"identity_hate_pred\", \"identity_hate\"]].to_excel(\"USE_texttoken.xlsx\")  "
      ],
      "metadata": {
        "id": "4Nv2aMys6rkr"
      },
      "execution_count": null,
      "outputs": []
    }
  ],
  "metadata": {
    "accelerator": "GPU",
    "colab": {
      "machine_shape": "hm",
      "provenance": [],
      "authorship_tag": "ABX9TyMmUyZxDPXDZRwvfduAKWq1",
      "include_colab_link": true
    },
    "gpuClass": "standard",
    "kernelspec": {
      "display_name": "Python 3",
      "name": "python3"
    },
    "language_info": {
      "name": "python"
    }
  },
  "nbformat": 4,
  "nbformat_minor": 0
}